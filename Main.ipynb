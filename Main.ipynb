{
 "cells": [
  {
   "cell_type": "markdown",
   "metadata": {},
   "source": [
    "# Recursive Recurrent Nets with Attention Modeling for OCR in the Wild -- an Implementation Attempt\n",
    "## Spencer Cain and William Goble\n",
    "---\n",
    "\n",
    "For our term project we wanted to implement an OCR model and then explore different methods for how the model can be improved. Our model is based off the paper 'Recursive Recurrent Nets with Attention Modeling for OCR in the Wild' by Chen-Yu Lee et al. "
   ]
  },
  {
   "cell_type": "code",
   "execution_count": null,
   "metadata": {},
   "outputs": [],
   "source": []
  }
 ],
 "metadata": {
  "kernelspec": {
   "display_name": "Python 3",
   "language": "python",
   "name": "python3"
  },
  "language_info": {
   "codemirror_mode": {
    "name": "ipython",
    "version": 3
   },
   "file_extension": ".py",
   "mimetype": "text/x-python",
   "name": "python",
   "nbconvert_exporter": "python",
   "pygments_lexer": "ipython3",
   "version": "3.9.10"
  }
 },
 "nbformat": 4,
 "nbformat_minor": 4
}
