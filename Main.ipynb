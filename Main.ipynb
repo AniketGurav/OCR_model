{
 "cells": [
  {
   "cell_type": "markdown",
   "metadata": {},
   "source": [
    "# Recursive Recurrent Nets with Attention Modeling for OCR in the Wild -- an Implementation Attempt\n",
    "## Spencer Cain and William Goble\n",
    "---\n",
    "\n",
    "For our term project we wanted to implement an OCR model and then explore different methods for how the model can be improved. Our model is based off the paper 'Recursive Recurrent Nets with Attention Modeling for OCR in the Wild' by Chen-Yu Lee et al. "
   ]
  },
  {
   "cell_type": "markdown",
   "metadata": {},
   "source": [
    "### Ethical Consideration\n",
    "\n",
    "Optical Character Recognition models (OCR) is one method for converting images of either handwritten, typed, or printed text into machine encoded text. This technology is a useful tool for automating tasks that traditionally require a human to examine an image and determine what text say. One such example is the automation of the traffic violation pipeline. Currently if someone were to run through a red light with a traffic camera, or drive through a toll plaza, a photo of their license plate would be taken, processed, and a bill would be sent to the drivers address. A task such as identifying a license plate, and extracting the license plate number, use to require human intervention, but thanks to technology like OCR models, this task can now be fully automated. Another example of a task OCR models could accomplish is reading signs or products that an individual might have in the background during a virtual meeting, such as over Zoom or Microsoft Teams, and then send targeted ads to the individual to encourage them to buy more, or similar, products. As a quick note, we are not saying any one company is doing this, but it is reasonable to assume this could be done. In both the targeted ads  and the license plate reader scenario, as machine learning engineers we are forced to face the question where does data collection end and personal privacy begin?\n",
    "\n",
    "One important thing to keep in mind when working with OCR models is having transparency with why the model processes a certain type of image text. A lack of transparency regarding OCR model usage is the difference between an automated toll booth system, and a device a police state could use to track the locations of citizens. Like in most fields, transparency is the key to gaining the trust of the users, and encourages the users to buy into the system. When companies are transparent with their intentions of the model, it places the choice back into the hands of the individual, and with their consent can lead to better improvements to the overall system. Additionally, machine learning engineers and companies need to be on gaurd against people trying to abuse their models in order to exploit the users. If the company is transparent about how to protects the users data, this transparency will also help build public trust."
   ]
  },
  {
   "cell_type": "code",
   "execution_count": null,
   "metadata": {},
   "outputs": [],
   "source": []
  }
 ],
 "metadata": {
  "kernelspec": {
   "display_name": "Python 3",
   "language": "python",
   "name": "python3"
  },
  "language_info": {
   "codemirror_mode": {
    "name": "ipython",
    "version": 3
   },
   "file_extension": ".py",
   "mimetype": "text/x-python",
   "name": "python",
   "nbconvert_exporter": "python",
   "pygments_lexer": "ipython3",
   "version": "3.9.10"
  }
 },
 "nbformat": 4,
 "nbformat_minor": 4
}
