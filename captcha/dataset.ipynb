{
 "cells": [
  {
   "cell_type": "code",
   "execution_count": 1,
   "id": "b35efaaf-5c63-4b70-9bce-ab09eed9f57b",
   "metadata": {},
   "outputs": [],
   "source": [
    "import numpy as np\n",
    "from PIL import Image\n",
    "import os\n",
    "import pickle"
   ]
  },
  {
   "cell_type": "markdown",
   "id": "2dfd76d3-bc4f-4a86-8386-7328fa60cc66",
   "metadata": {},
   "source": [
    "The dataset is downloaded from https://www.kaggle.com/datasets/parsasam/captcha-dataset."
   ]
  },
  {
   "cell_type": "code",
   "execution_count": 2,
   "id": "6e8692f4-6ee4-48ca-b66e-826c494c5f42",
   "metadata": {},
   "outputs": [],
   "source": [
    "_, _, image_names = next(os.walk(top='dataset'))\n",
    "images, labels = [], []\n",
    "for name in image_names:\n",
    "    label = name.split('.')[0]\n",
    "    image = np.asarray(Image.open('dataset/' + name), dtype=np.half)\n",
    "    image /= 255.\n",
    "\n",
    "    images.append(image)\n",
    "    labels.append(label)"
   ]
  },
  {
   "cell_type": "code",
   "execution_count": 3,
   "id": "4be3cac2-51f5-49a5-b111-f6292c767a85",
   "metadata": {},
   "outputs": [
    {
     "name": "stdout",
     "output_type": "stream",
     "text": [
      "113060\n"
     ]
    }
   ],
   "source": [
    "# Shard the dataset\n",
    "images, labels = images[:-2], labels[:-2]\n",
    "num_samples = len(images)\n",
    "print(num_samples)\n",
    "for i in range(10):\n",
    "    image_shard = images[(i * num_samples) // 10 : ((i + 1) * num_samples) // 10]\n",
    "    label_shard = labels[(i * num_samples) // 10 : ((i + 1) * num_samples) // 10]\n",
    "    with open(f'shard_{i}.pkl', 'wb') as f:\n",
    "        pickle.dump((image_shard, label_shard), f)"
   ]
  }
 ],
 "metadata": {
  "kernelspec": {
   "display_name": "Python 3 (ipykernel)",
   "language": "python",
   "name": "python3"
  },
  "language_info": {
   "codemirror_mode": {
    "name": "ipython",
    "version": 3
   },
   "file_extension": ".py",
   "mimetype": "text/x-python",
   "name": "python",
   "nbconvert_exporter": "python",
   "pygments_lexer": "ipython3",
   "version": "3.9.7"
  }
 },
 "nbformat": 4,
 "nbformat_minor": 5
}
