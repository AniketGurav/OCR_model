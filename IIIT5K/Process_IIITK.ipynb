{
 "cells": [
  {
   "cell_type": "code",
   "execution_count": 1,
   "metadata": {},
   "outputs": [],
   "source": [
    "import numpy as np\n",
    "from scipy.io import loadmat\n",
    "import pandas as pd"
   ]
  },
  {
   "cell_type": "markdown",
   "metadata": {},
   "source": [
    "!pip install mat4py"
   ]
  },
  {
   "cell_type": "code",
   "execution_count": 23,
   "metadata": {},
   "outputs": [],
   "source": [
    "matlab_train_data = 'trainCharBound.mat'\n",
    "matlab_test_data = 'testCharBound.mat'\n",
    "\n",
    "train_data = loadmat(matlab_train_data)\n",
    "test_data = loadmat(matlab_test_data)"
   ]
  },
  {
   "cell_type": "code",
   "execution_count": 62,
   "metadata": {},
   "outputs": [
    {
     "name": "stdout",
     "output_type": "stream",
     "text": [
      "Training Data length:\t2000\n",
      "Test Data length:\t3000\n"
     ]
    }
   ],
   "source": [
    "len1 = len(train_data['trainCharBound'][0])\n",
    "len2 = len(test_data['testCharBound'][0])\n",
    "\n",
    "print(f'Training Data length:\\t{len1}')\n",
    "print(f'Test Data length:\\t{len2}')"
   ]
  },
  {
   "cell_type": "code",
   "execution_count": 54,
   "metadata": {},
   "outputs": [],
   "source": [
    "train_img_names = list()\n",
    "train_img_lbls = list()\n",
    "train_img_bb = list()\n",
    "\n",
    "test_img_names = list()\n",
    "test_img_lbls = list()\n",
    "test_img_bb = list()\n",
    "\n",
    "for i in range(len1):\n",
    "    train_img_names.append(train_data['trainCharBound'][0][i][0][0])\n",
    "    train_img_lbls.append(train_data['trainCharBound'][0][i][1][0])\n",
    "    temp = list()\n",
    "    for j in range(len(train_data['trainCharBound'][0][i][1][0])):\n",
    "        temp.append(train_data['trainCharBound'][0][i][2][j])\n",
    "    train_img_bb.append(temp)\n",
    "    \n",
    "for i in range(len2):\n",
    "    test_img_names.append(test_data['testCharBound'][0][i][0][0])\n",
    "    test_img_lbls.append(test_data['testCharBound'][0][i][1][0])\n",
    "    temp = list()\n",
    "    for j in range(len(test_data['testCharBound'][0][i][1][0])):\n",
    "        temp.append(test_data['testCharBound'][0][i][2][j])\n",
    "    test_img_bb.append(temp)"
   ]
  }
 ],
 "metadata": {
  "kernelspec": {
   "display_name": "Python 3",
   "language": "python",
   "name": "python3"
  },
  "language_info": {
   "codemirror_mode": {
    "name": "ipython",
    "version": 3
   },
   "file_extension": ".py",
   "mimetype": "text/x-python",
   "name": "python",
   "nbconvert_exporter": "python",
   "pygments_lexer": "ipython3",
   "version": "3.9.10"
  }
 },
 "nbformat": 4,
 "nbformat_minor": 4
}
