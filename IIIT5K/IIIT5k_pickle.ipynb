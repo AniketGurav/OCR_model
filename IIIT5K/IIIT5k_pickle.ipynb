{
 "cells": [
  {
   "cell_type": "code",
   "execution_count": 7,
   "metadata": {},
   "outputs": [],
   "source": [
    "import numpy as np\n",
    "from scipy.io import loadmat\n",
    "import pandas as pd\n",
    "from matplotlib import pyplot as plt\n",
    "\n",
    "from PIL import Image, ImageOps\n",
    "import os\n",
    "import pickle"
   ]
  },
  {
   "cell_type": "code",
   "execution_count": 2,
   "metadata": {},
   "outputs": [],
   "source": [
    "matlab_train_data = 'trainCharBound.mat'\n",
    "matlab_test_data = 'testCharBound.mat'\n",
    "\n",
    "train_data = loadmat(matlab_train_data)\n",
    "test_data = loadmat(matlab_test_data)"
   ]
  },
  {
   "cell_type": "code",
   "execution_count": 3,
   "metadata": {},
   "outputs": [],
   "source": [
    "len1 = len(train_data['trainCharBound'][0])\n",
    "len2 = len(test_data['testCharBound'][0])\n",
    "\n",
    "train_img_names = list()\n",
    "train_img_lbls = list()\n",
    "train_img_bb = list()\n",
    "\n",
    "test_img_names = list()\n",
    "test_img_lbls = list()\n",
    "test_img_bb = list()\n",
    "\n",
    "for i in range(len1):\n",
    "    train_img_names.append(train_data['trainCharBound'][0][i][0][0])\n",
    "    train_img_lbls.append(train_data['trainCharBound'][0][i][1][0])\n",
    "    temp = list()\n",
    "    for j in range(len(train_data['trainCharBound'][0][i][1][0])):\n",
    "        temp.append(train_data['trainCharBound'][0][i][2][j])\n",
    "    train_img_bb.append(temp)\n",
    "    \n",
    "for i in range(len2):\n",
    "    test_img_names.append(test_data['testCharBound'][0][i][0][0])\n",
    "    test_img_lbls.append(test_data['testCharBound'][0][i][1][0])\n",
    "    temp = list()\n",
    "    for j in range(len(test_data['testCharBound'][0][i][1][0])):\n",
    "        temp.append(test_data['testCharBound'][0][i][2][j])\n",
    "    test_img_bb.append(temp)"
   ]
  },
  {
   "cell_type": "code",
   "execution_count": 4,
   "metadata": {},
   "outputs": [],
   "source": [
    "def createImageList(isTest = True):\n",
    "    dir_name =  'test/' if isTest is True else  'train/'\n",
    "    _, _, image_names = next(os.walk(top = dir_name))\n",
    "    images = list()\n",
    "    \n",
    "    for name in image_names:\n",
    "        image = Image.open(dir_name + name)\n",
    "        image = ImageOps.grayscale(image)\n",
    "        image = image.resize((100, 32))\n",
    "        image = np.asarray(image, dtype = np.half)\n",
    "        image /= 255\n",
    "        images.append(image)\n",
    "    return images"
   ]
  },
  {
   "cell_type": "code",
   "execution_count": 5,
   "metadata": {},
   "outputs": [],
   "source": [
    "def rescaleBoundingBox(src, index, bb_src):\n",
    "    original = src[index]\n",
    "    og_image = Image.open(original)\n",
    "    new_image = og_image.resize((100, 32))\n",
    "    og_width, og_height = og_image.size\n",
    "    new_width, new_height = new_image.size\n",
    "    ratio_width = new_width / og_width\n",
    "    ratio_height = new_height / og_height\n",
    "    \n",
    "    result = list()\n",
    "    \n",
    "    for i in range(len(bb_src[index])):\n",
    "        og_x = bb_src[index][i][0]\n",
    "        og_y = bb_src[index][i][1]\n",
    "        og_width = bb_src[index][i][2] - og_x\n",
    "        og_height = bb_src[index][i][3] - og_y\n",
    "    \n",
    "        new_x = og_x * ratio_width\n",
    "        new_y = og_y * ratio_height\n",
    "        new_width = bb_src[index][i][2] * ratio_width\n",
    "        new_height = bb_src[index][i][3] * ratio_height\n",
    "        temp = np.array([new_x, new_y, new_width, new_height], dtype = np.float32)\n",
    "        result.append(temp)\n",
    "    return result"
   ]
  },
  {
   "cell_type": "code",
   "execution_count": 12,
   "metadata": {},
   "outputs": [],
   "source": [
    "new_test_bb = list()\n",
    "new_train_bb = list()\n",
    "\n",
    "train_images = createImageList(False)\n",
    "test_images = createImageList(True)\n",
    "\n",
    "for i, _ in enumerate(test_img_names):\n",
    "    new_test_bb.append(rescaleBoundingBox(test_img_names, i, test_img_bb))\n",
    "\n",
    "for i, _ in enumerate(train_img_names):\n",
    "    new_train_bb.append(rescaleBoundingBox(train_img_names, i, train_img_bb))"
   ]
  },
  {
   "cell_type": "code",
   "execution_count": 13,
   "metadata": {},
   "outputs": [],
   "source": [
    "images = train_images + test_images\n",
    "image_names = train_img_names + test_img_names\n",
    "image_lables = train_img_lbls + test_img_lbls\n",
    "image_bbox = new_train_bb + new_test_bb"
   ]
  },
  {
   "cell_type": "code",
   "execution_count": 14,
   "metadata": {},
   "outputs": [
    {
     "name": "stdout",
     "output_type": "stream",
     "text": [
      "5000\n",
      "5000\n",
      "5000\n",
      "5000\n"
     ]
    }
   ],
   "source": [
    "print(f'{len(images)}\\n{len(image_names)}\\n{len(image_lables)}\\n{len(image_bbox)}')"
   ]
  },
  {
   "cell_type": "code",
   "execution_count": 16,
   "metadata": {},
   "outputs": [],
   "source": [
    "num_samples = len(images)\n",
    "\n",
    "for i in range(10):\n",
    "    img_shard = images[(i * num_samples) // 10 : ((i + 1) * num_samples) // 10]\n",
    "    label_shard = image_lables[(i * num_samples) // 10 : ((i + 1) * num_samples) // 10]\n",
    "    bbox_shard = image_bbox[(i * num_samples) // 10 : ((i+1) * num_samples) // 10]\n",
    "    \n",
    "    with open(f'dataset/shard_{i}.pkl', 'wb') as f:\n",
    "        pickle.dump((img_shard, label_shard, bbox_shard), f)"
   ]
  },
  {
   "cell_type": "code",
   "execution_count": null,
   "metadata": {},
   "outputs": [],
   "source": []
  }
 ],
 "metadata": {
  "kernelspec": {
   "display_name": "Python 3",
   "language": "python",
   "name": "python3"
  },
  "language_info": {
   "codemirror_mode": {
    "name": "ipython",
    "version": 3
   },
   "file_extension": ".py",
   "mimetype": "text/x-python",
   "name": "python",
   "nbconvert_exporter": "python",
   "pygments_lexer": "ipython3",
   "version": "3.9.10"
  }
 },
 "nbformat": 4,
 "nbformat_minor": 4
}
