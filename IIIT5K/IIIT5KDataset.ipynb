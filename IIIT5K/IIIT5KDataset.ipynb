{
 "cells": [
  {
   "cell_type": "code",
   "execution_count": 1,
   "metadata": {},
   "outputs": [],
   "source": [
    "import os\n",
    "import csv\n",
    "import numpy as np\n",
    "import pandas as pd\n",
    "import math\n",
    "import pickle\n",
    "\n",
    "import torch\n",
    "from torch.utils.data import Dataset\n",
    "from torchtext.data.utils import get_tokenizer\n",
    "from torchtext.vocab import vocab, build_vocab_from_iterator\n",
    "from collections import OrderedDict, Counter\n",
    "\n",
    "from tqdm import tqdm"
   ]
  },
  {
   "cell_type": "code",
   "execution_count": 6,
   "metadata": {},
   "outputs": [],
   "source": [
    "class IIIT5KDataset(Dataset):\n",
    "    def __init__(self, split=None, directory='dataset/'):\n",
    "        super(IIIT5KDataset).__init__()\n",
    "        imgs = list()\n",
    "        lbls = list()\n",
    "        bboxes = list()\n",
    "        \n",
    "        for i in range(10):\n",
    "            file_name = directory + f'shard_{i}.pkl'\n",
    "            temp_pickle = pd.read_pickle(file_name)\n",
    "            imgs = imgs + temp_pickle[0]\n",
    "            lbls = lbls + temp_pickle[1]\n",
    "            bboxes = bboxes + temp_pickle[2]\n",
    "            \n",
    "        self.images = imgs\n",
    "        self.labels = lbls\n",
    "        self.bbox = bboxes\n",
    "        \n",
    "    def __getitem__(self, index):\n",
    "        img = self.images[index]\n",
    "        lbl = self.labels[index]\n",
    "        bbox = self.bbox[index]\n",
    "        \n",
    "        return (img, lbl, bbox)"
   ]
  },
  {
   "cell_type": "code",
   "execution_count": 8,
   "metadata": {},
   "outputs": [
    {
     "data": {
      "text/plain": [
       "(array([[0.9844, 0.9805, 0.9844, ..., 0.4746, 0.4785, 0.4824],\n",
       "        [0.7217, 0.7334, 0.741 , ..., 0.4785, 0.4824, 0.4902],\n",
       "        [0.4587, 0.4824, 0.4785, ..., 0.4785, 0.4824, 0.4863],\n",
       "        ...,\n",
       "        [0.4746, 0.4785, 0.4863, ..., 0.4746, 0.4863, 0.4941],\n",
       "        [0.4863, 0.4824, 0.4863, ..., 0.4785, 0.4785, 0.4824],\n",
       "        [0.4863, 0.4824, 0.4824, ..., 0.4785, 0.4785, 0.4824]],\n",
       "       dtype=float16),\n",
       " 'You',\n",
       " [array([ 6.4102564,  3.7209303, 26.923077 , 26.790697 ], dtype=float32),\n",
       "  array([32.05128 , 11.16279 , 30.76923 , 19.348837], dtype=float32),\n",
       "  array([62.820515,  8.186047, 32.05128 , 20.83721 ], dtype=float32)])"
      ]
     },
     "execution_count": 8,
     "metadata": {},
     "output_type": "execute_result"
    }
   ],
   "source": [
    "if 'temp' in locals():\n",
    "    del temp\n",
    "\n",
    "temp = IIIT5KDataset(directory='dataset/')\n",
    "temp.__getitem__(0)"
   ]
  },
  {
   "cell_type": "code",
   "execution_count": 11,
   "metadata": {},
   "outputs": [
    {
     "data": {
      "text/plain": [
       "'DODA'"
      ]
     },
     "execution_count": 11,
     "metadata": {},
     "output_type": "execute_result"
    }
   ],
   "source": [
    "image, label, bbox = temp[5]\n",
    "label"
   ]
  },
  {
   "cell_type": "code",
   "execution_count": null,
   "metadata": {},
   "outputs": [],
   "source": []
  }
 ],
 "metadata": {
  "kernelspec": {
   "display_name": "Python 3",
   "language": "python",
   "name": "python3"
  },
  "language_info": {
   "codemirror_mode": {
    "name": "ipython",
    "version": 3
   },
   "file_extension": ".py",
   "mimetype": "text/x-python",
   "name": "python",
   "nbconvert_exporter": "python",
   "pygments_lexer": "ipython3",
   "version": "3.9.10"
  }
 },
 "nbformat": 4,
 "nbformat_minor": 4
}
